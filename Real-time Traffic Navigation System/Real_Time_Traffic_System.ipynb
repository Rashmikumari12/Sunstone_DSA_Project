{
 "cells": [
  {
   "cell_type": "markdown",
   "id": "f08aa959",
   "metadata": {},
   "source": [
    "# Real-time Traffic Navigation System"
   ]
  },
  {
   "cell_type": "markdown",
   "id": "65ca701a",
   "metadata": {},
   "source": [
    "# Graph Representation\n",
    "1.\tGraph Data Structure:\n"
   ]
  },
  {
   "cell_type": "code",
   "execution_count": 7,
   "id": "8e6e551a",
   "metadata": {},
   "outputs": [],
   "source": [
    "class Graph:\n",
    "    def __init__(self):\n",
    "        self.nodes = set()\n",
    "        self.edges = {}\n",
    "        self.distances = {}\n",
    "\n",
    "    def add_node(self, value):\n",
    "        self.nodes.add(value)\n",
    "\n",
    "    def add_edge(self, from_node, to_node, distance):\n",
    "        if from_node not in self.edges:\n",
    "            self.edges[from_node] = []\n",
    "            self.edges[from_node].append(to_node)\n",
    "            self.distances[(from_node, to_node)] = distance\n",
    "            \n",
    "\n",
    "\n"
   ]
  },
  {
   "cell_type": "markdown",
   "id": "6224d7c9",
   "metadata": {},
   "source": [
    "# Shortest Path Algorithm\n",
    "2.\tDijkstra's Algorithm:\n"
   ]
  },
  {
   "cell_type": "code",
   "execution_count": 4,
   "id": "f7e29d08",
   "metadata": {},
   "outputs": [],
   "source": [
    "import heapq\n",
    "\n",
    "def dijkstra(graph, initial):\n",
    "    visited = {initial: 0}\n",
    "    path = {}\n",
    "\n",
    "    nodes = set(graph.nodes)\n",
    "\n",
    "    pq = [(0, initial)]\n",
    "    while nodes and pq:\n",
    "        (cost, node) = heapq.heappop(pq)\n",
    "        if node in nodes:\n",
    "            nodes.remove(node)\n",
    "            current_weight = visited[node]\n",
    "\n",
    "            for neighbor in graph.edges.get(node, []):\n",
    "                weight = current_weight + graph.distances[(node, neighbor)]\n",
    "                if neighbor not in visited or weight < visited[neighbor]:\n",
    "\n",
    "                    visited[neighbor] = weight\n",
    "                    heapq.heappush(pq, (weight, neighbor))\n",
    "                    path[neighbor] = node\n",
    "\n",
    "    return visited, path\n"
   ]
  },
  {
   "cell_type": "code",
   "execution_count": null,
   "id": "66897feb",
   "metadata": {},
   "outputs": [],
   "source": []
  },
  {
   "cell_type": "code",
   "execution_count": null,
   "id": "877f6674",
   "metadata": {},
   "outputs": [],
   "source": []
  }
 ],
 "metadata": {
  "kernelspec": {
   "display_name": "Python 3 (ipykernel)",
   "language": "python",
   "name": "python3"
  },
  "language_info": {
   "codemirror_mode": {
    "name": "ipython",
    "version": 3
   },
   "file_extension": ".py",
   "mimetype": "text/x-python",
   "name": "python",
   "nbconvert_exporter": "python",
   "pygments_lexer": "ipython3",
   "version": "3.11.5"
  }
 },
 "nbformat": 4,
 "nbformat_minor": 5
}
