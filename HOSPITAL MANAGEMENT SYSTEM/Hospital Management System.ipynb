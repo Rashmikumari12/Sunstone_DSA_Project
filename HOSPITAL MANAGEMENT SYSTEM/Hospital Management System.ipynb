{
 "cells": [
  {
   "cell_type": "markdown",
   "id": "8d64b823",
   "metadata": {},
   "source": [
    "# Hospital Management System"
   ]
  },
  {
   "cell_type": "markdown",
   "id": "4776b919",
   "metadata": {},
   "source": [
    "# 1. Managing Patient Records with Trees"
   ]
  },
  {
   "cell_type": "code",
   "execution_count": 1,
   "id": "18706d6b",
   "metadata": {},
   "outputs": [],
   "source": [
    "class PatientRecord:\n",
    "    def __init__(self, id, name, age, medical_history):\n",
    "        self.id = id\n",
    "        self.name = name\n",
    "        self.age = age\n",
    "        self.medical_history = medical_history\n",
    "        # Additional fields...\n",
    "\n",
    "class AVLNode:\n",
    "    def __init__(self, patient):\n",
    "        self.patient = patient\n",
    "        self.left = None\n",
    "        self.right = None\n",
    "        self.height = 1\n",
    "\n",
    "class AVLTree:\n",
    "    def insert(self, root, patient):\n",
    "        # Insertion logic with balancing\n",
    "        pass\n",
    "\n",
    "    def search(self, root, patient_id):\n",
    "        # Search logic\n",
    "        pass\n",
    "\n",
    "    def delete(self, root, patient_id):\n",
    "        # Deletion logic with balancing\n",
    "        pass\n"
   ]
  },
  {
   "cell_type": "markdown",
   "id": "f49ca523",
   "metadata": {},
   "source": [
    "# 2. Scheduling Algorithms: Managing Doctor Appointments"
   ]
  },
  {
   "cell_type": "code",
   "execution_count": 2,
   "id": "d45da463",
   "metadata": {},
   "outputs": [],
   "source": [
    "import heapq\n",
    "\n",
    "class Appointment:\n",
    "    def __init__(self, patient_id, doctor_id, time_slot, priority):\n",
    "        self.patient_id = patient_id\n",
    "        self.doctor_id = doctor_id\n",
    "        self.time_slot = time_slot\n",
    "        self.priority = priority\n",
    "\n",
    "class AppointmentScheduler:\n",
    "    def __init__(self):\n",
    "        self.appointments = []\n",
    "\n",
    "    def book_appointment(self, appointment):\n",
    "        heapq.heappush(self.appointments, (appointment.priority, appointment))\n",
    "\n",
    "    def cancel_appointment(self, appointment):\n",
    "        self.appointments.remove((appointment.priority, appointment))\n",
    "        heapq.heapify(self.appointments)\n",
    "\n",
    "    def reschedule_appointment(self, appointment, new_time_slot):\n",
    "        self.cancel_appointment(appointment)\n",
    "        appointment.time_slot = new_time_slot\n",
    "        self.book_appointment(appointment)\n",
    "\n",
    "    def view_appointments(self):\n",
    "        return [heapq.heappop(self.appointments) for _ in range(len(self.appointments))]\n"
   ]
  },
  {
   "cell_type": "markdown",
   "id": "092cb4be",
   "metadata": {},
   "source": [
    "# 3. Inventory Management: Using Hash Tables"
   ]
  },
  {
   "cell_type": "code",
   "execution_count": 3,
   "id": "07622484",
   "metadata": {},
   "outputs": [],
   "source": [
    "class InventoryItem:\n",
    "    def __init__(self, item_id, name, quantity):\n",
    "        self.item_id = item_id\n",
    "        self.name = name\n",
    "        self.quantity = quantity\n",
    "\n",
    "class InventoryManager:\n",
    "    def __init__(self):\n",
    "        self.inventory = {}\n",
    "\n",
    "    def add_item(self, item):\n",
    "        self.inventory[item.item_id] = item\n",
    "\n",
    "    def update_item(self, item_id, new_quantity):\n",
    "        if item_id in self.inventory:\n",
    "            self.inventory[item_id].quantity = new_quantity\n",
    "\n",
    "    def delete_item(self, item_id):\n",
    "        if item_id in self.inventory:\n",
    "            del self.inventory[item_id]\n",
    "\n",
    "    def track_stock_levels(self):\n",
    "        return {item_id: item.quantity for item_id, item in self.inventory.items()}\n",
    "\n",
    "    def generate_alerts(self, threshold):\n",
    "        return {item_id: item.quantity for item_id, item in self.inventory.items() if item.quantity < threshold}\n"
   ]
  },
  {
   "cell_type": "markdown",
   "id": "11ac43c4",
   "metadata": {},
   "source": [
    "# 4. Search and Sort\n"
   ]
  },
  {
   "cell_type": "code",
   "execution_count": 5,
   "id": "600e1faa",
   "metadata": {},
   "outputs": [],
   "source": [
    "def binary_search(arr, target):\n",
    "    left, right = 0, len(arr) - 1\n",
    "    while left <= right:\n",
    "        mid = (left + right) // 2\n",
    "        if arr[mid] == target:\n",
    "            return mid\n",
    "        elif arr[mid] < target:\n",
    "            left = mid + 1\n",
    "        else:\n",
    "            right = mid - 1\n",
    "    return -1\n",
    "\n",
    "def quick_sort(arr):\n",
    "    if len(arr) <= 1:\n",
    "        return arr\n",
    "    pivot = arr[len(arr) // 2]\n",
    "    left = [x for x in arr if x < pivot]\n",
    "    middle = [x for x in arr if x == pivot]\n",
    "    right = [x for x in arr if x > pivot]\n",
    "    return quick_sort(left) + middle + quick_sort(right)\n"
   ]
  },
  {
   "cell_type": "markdown",
   "id": "c4429cc3",
   "metadata": {},
   "source": [
    "# 5. Security"
   ]
  },
  {
   "cell_type": "code",
   "execution_count": 7,
   "id": "d8d18900",
   "metadata": {},
   "outputs": [],
   "source": [
    "from cryptography.fernet import Fernet\n",
    "\n",
    "class SecurityManager:\n",
    "    def __init__(self, key):\n",
    "        self.key = key\n",
    "        self.cipher = Fernet(key)\n",
    "\n",
    "    def encrypt_data(self, data):\n",
    "        return self.cipher.encrypt(data.encode())\n",
    "\n",
    "    def decrypt_data(self, encrypted_data):\n",
    "        return self.cipher.decrypt(encrypted_data).decode()\n",
    "\n",
    "    def access_control(self, user_role, required_role):\n",
    "        return user_role >= required_role  # Simplified role comparison\n"
   ]
  },
  {
   "cell_type": "code",
   "execution_count": null,
   "id": "8ec05b7a",
   "metadata": {},
   "outputs": [],
   "source": []
  }
 ],
 "metadata": {
  "kernelspec": {
   "display_name": "Python 3 (ipykernel)",
   "language": "python",
   "name": "python3"
  },
  "language_info": {
   "codemirror_mode": {
    "name": "ipython",
    "version": 3
   },
   "file_extension": ".py",
   "mimetype": "text/x-python",
   "name": "python",
   "nbconvert_exporter": "python",
   "pygments_lexer": "ipython3",
   "version": "3.11.5"
  }
 },
 "nbformat": 4,
 "nbformat_minor": 5
}
