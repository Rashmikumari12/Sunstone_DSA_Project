{
 "cells": [
  {
   "cell_type": "markdown",
   "id": "8d64b823",
   "metadata": {},
   "source": [
    "# Hospital Management System"
   ]
  },
  {
   "cell_type": "code",
   "execution_count": 1,
   "id": "3f1b5561",
   "metadata": {},
   "outputs": [],
   "source": [
    "# 1. Data Structures: Managing Patient Records with Trees"
   ]
  },
  {
   "cell_type": "code",
   "execution_count": 1,
   "id": "18706d6b",
   "metadata": {},
   "outputs": [],
   "source": [
    "class Patient:\n",
    "    def __init__(self, patient_id, name, age, medical_history):\n",
    "        self.patient_id = patient_id\n",
    "        self.name = name\n",
    "        self.age = age\n",
    "        self.medical_history = medical_history\n",
    "class TreeNode:\n",
    "    def __init__(self, patient):\n",
    "        self.patient = patient\n",
    "        self.left = None\n",
    "        self.right = None\n",
    "class PatientBST:\n",
    "    def __init__(self):\n",
    "        self.root = None\n",
    "\n",
    "    def insert(self, patient):\n",
    "        if self.root is None:\n",
    "            self.root = TreeNode(patient)\n",
    "        else:\n",
    "            self._insert(self.root, patient)\n",
    "    def _insert(self, node, patient):\n",
    "        if patient.patient_id < node.patient.patient_id:\n",
    "            if node.left is None:\n",
    "                node.left = TreeNode(patient)\n",
    "            else:\n",
    "                self._insert(node.left, patient)\n",
    "        else:\n",
    "            if node.right is None:\n",
    "                node.right = TreeNode(patient)\n",
    "            else:\n",
    "                self._insert(node.right, patient)\n",
    "\n",
    "                self._insert(node.right, patient)\n",
    "\n",
    "    def search(self, patient_id):\n",
    "        return self._search(self.root, patient_id)\n",
    "\n",
    "    def _search(self, node, patient_id):\n",
    "        if node is None or node.patient.patient_id == patient_id:\n",
    "            return node\n",
    "        if patient_id < node.patient.patient_id:\n",
    "            return self._search(node.left, patient_id)\n",
    "        else:\n",
    "            return self._search(node.right, patient_id)\n"
   ]
  },
  {
   "cell_type": "code",
   "execution_count": null,
   "id": "f5dce894",
   "metadata": {},
   "outputs": [],
   "source": [
    "#2. Scheduling Algorithms: Managing Doctor Appointments"
   ]
  },
  {
   "cell_type": "code",
   "execution_count": 2,
   "id": "d45da463",
   "metadata": {},
   "outputs": [],
   "source": [
    "import heapq\n",
    "\n",
    "class Appointment:\n",
    "    def __init__(self, patient_id, doctor_id, time_slot):\n",
    "        self.patient_id = patient_id\n",
    "        self.doctor_id = doctor_id\n",
    "        self.time_slot = time_slot\n",
    "\n",
    "    def __lt__(self, other):\n",
    "        return self.time_slot < other.time_slot\n",
    "\n",
    "class AppointmentScheduler:\n",
    "    def __init__(self):\n",
    "        self.appointments = []\n",
    "\n",
    "    def add_appointment(self, appointment):\n",
    "        heapq.heappush(self.appointments, appointment)\n",
    "\n",
    "    def get_next_appointment(self):\n",
    "        return heapq.heappop(self.appointments) if self.appointments else None\n"
   ]
  },
  {
   "cell_type": "code",
   "execution_count": 3,
   "id": "7febc835",
   "metadata": {},
   "outputs": [],
   "source": [
    "#3. Inventory Management: Using Hash Tables"
   ]
  },
  {
   "cell_type": "code",
   "execution_count": 7,
   "id": "07622484",
   "metadata": {},
   "outputs": [],
   "source": [
    "class InventoryItem:\n",
    "    def __init__(self, item_id, name, quantity, threshold):\n",
    "        self.item_id = item_id\n",
    "        self.name = name\n",
    "        self.quantity = quantity\n",
    "        self.threshold = threshold\n",
    "\n",
    "class InventoryManager:\n",
    "    def __init__(self):\n",
    "        self.inventory = {}\n",
    "\n",
    "    \n",
    "        \n"
   ]
  },
  {
   "cell_type": "code",
   "execution_count": null,
   "id": "a795edc0",
   "metadata": {},
   "outputs": [],
   "source": []
  }
 ],
 "metadata": {
  "kernelspec": {
   "display_name": "Python 3 (ipykernel)",
   "language": "python",
   "name": "python3"
  },
  "language_info": {
   "codemirror_mode": {
    "name": "ipython",
    "version": 3
   },
   "file_extension": ".py",
   "mimetype": "text/x-python",
   "name": "python",
   "nbconvert_exporter": "python",
   "pygments_lexer": "ipython3",
   "version": "3.11.5"
  }
 },
 "nbformat": 4,
 "nbformat_minor": 5
}
